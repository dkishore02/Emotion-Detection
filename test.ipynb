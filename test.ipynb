{
 "cells": [
  {
   "cell_type": "code",
   "execution_count": 8,
   "metadata": {},
   "outputs": [],
   "source": [
    "%%capture cap\n",
    "%%time\n",
    "!python detect.py --weights \"C:/Emotion_Analysis/Yolov7/yolov7/best.pt\" --img 640 --conf 0.25 --source \"C:/Emotion_Analysis/Yolov7/yolov7/source-images/\""
   ]
  },
  {
   "cell_type": "code",
   "execution_count": 9,
   "metadata": {},
   "outputs": [],
   "source": [
    "f = open(\"output1.txt\", \"w\") \n",
    "print(cap, file=f)\n",
    "f.close()"
   ]
  },
  {
   "cell_type": "code",
   "execution_count": 18,
   "metadata": {},
   "outputs": [],
   "source": [
    "file = open(\"C:/Emotion_Analysis/Yolov7/yolov7/output1.txt\", \"r\")\n",
    "\n",
    "#read content of file to string\n",
    "data = file.read()\n",
    "\n",
    "happy =data.count(\"1 happy\")\n",
    "anger =data.count(\"1 anger\")\n",
    "bored =data.count(\"1 bored\")\n",
    "excited=data.count(\"1 excited\")\n",
    "fear=data.count(\"1 fear\")\n",
    "relax=data.count(\"1 relax\")\n",
    "sad=data.count(\"1 sad\")\n",
    "worry=data.count(\"1 worry\")"
   ]
  },
  {
   "cell_type": "code",
   "execution_count": 19,
   "metadata": {},
   "outputs": [],
   "source": [
    "import math\n",
    "def percentage(x):print(math.trunc((x/(sad+happy+fear+excited+bored+relax+worry+anger))*100),\"%\")"
   ]
  },
  {
   "cell_type": "code",
   "execution_count": 24,
   "metadata": {},
   "outputs": [
    {
     "name": "stdout",
     "output_type": "stream",
     "text": [
      "Happy:93 %\n",
      "Excited:5 %\n",
      "Sad:0 %\n",
      "Fear:0 %\n",
      "Bored:0 %\n",
      "Worry:0 %\n",
      "Anger:0 %\n",
      "Relax:1 %\n"
     ]
    }
   ],
   "source": [
    "print(\"Happy:\",end=\"\")\n",
    "percentage(happy)\n",
    "print(\"Excited:\",end=\"\")\n",
    "percentage(excited)\n",
    "print(\"Sad:\",end=\"\")\n",
    "percentage(sad)\n",
    "print(\"Fear:\",end=\"\")\n",
    "percentage(fear)\n",
    "print(\"Bored:\",end=\"\")\n",
    "percentage(bored)\n",
    "print(\"Worry:\",end=\"\")\n",
    "percentage(worry)\n",
    "print(\"Anger:\",end=\"\")\n",
    "percentage(anger)\n",
    "print(\"Relax:\",end=\"\")\n",
    "percentage(relax)\n"
   ]
  },
  {
   "cell_type": "code",
   "execution_count": null,
   "metadata": {},
   "outputs": [],
   "source": []
  }
 ],
 "metadata": {
  "kernelspec": {
   "display_name": "Python 3.10.4 ('cv_research')",
   "language": "python",
   "name": "python3"
  },
  "language_info": {
   "codemirror_mode": {
    "name": "ipython",
    "version": 3
   },
   "file_extension": ".py",
   "mimetype": "text/x-python",
   "name": "python",
   "nbconvert_exporter": "python",
   "pygments_lexer": "ipython3",
   "version": "3.10.4"
  },
  "orig_nbformat": 4,
  "vscode": {
   "interpreter": {
    "hash": "13c8c474f6f5723e4d25e0ac5f9fd23a22b1985d20c34b9a640cb4472fbb8402"
   }
  }
 },
 "nbformat": 4,
 "nbformat_minor": 2
}
